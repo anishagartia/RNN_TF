{
 "cells": [
  {
   "cell_type": "code",
   "execution_count": 1,
   "metadata": {
    "collapsed": true
   },
   "outputs": [],
   "source": [
    "import numpy as np\n",
    "import tensorflow as tf\n",
    "from tensorflow.python.ops import rnn, rnn_cell\n",
    "from tensorflow.contrib import layers"
   ]
  },
  {
   "cell_type": "markdown",
   "metadata": {},
   "source": [
    "### Parameters"
   ]
  },
  {
   "cell_type": "code",
   "execution_count": 2,
   "metadata": {
    "collapsed": false
   },
   "outputs": [],
   "source": [
    "# Parameters\n",
    "learning_rate = 0.01\n",
    "training_epochs = 1500\n",
    "batch_size = 100\n",
    "display_step = 100\n",
    "\n",
    "# Network Parameters\n",
    "n_hidden_1 = 256 # 1st layer number of features\n",
    "n_input = 7 # Number of elements in input binary sequence \n",
    "n_classes = 2 # Total classes (even/odd) (0-1 digits)\n",
    "\n",
    "# tf Graph input\n",
    "x = tf.placeholder(tf.float32, [n_input])\n",
    "y = tf.placeholder(tf.int32, [1])\n",
    "\n",
    "# Define weights\n",
    "weights_1 = {\n",
    "    'out': tf.Variable(tf.random_normal([1]))\n",
    "}\n",
    "biases_1 = {\n",
    "    'out': tf.Variable(tf.random_normal([1]))\n",
    "}\n",
    "\n"
   ]
  },
  {
   "cell_type": "markdown",
   "metadata": {},
   "source": [
    "### Data"
   ]
  },
  {
   "cell_type": "code",
   "execution_count": 3,
   "metadata": {
    "collapsed": false
   },
   "outputs": [],
   "source": [
    "## Train Sequence\n",
    "train_X = np.random.randint(0, 2, size=(n_input))\n",
    "train_Y = train_X.sum(keepdims=True)"
   ]
  },
  {
   "cell_type": "code",
   "execution_count": 4,
   "metadata": {
    "collapsed": false
   },
   "outputs": [],
   "source": [
    "## Test Sequence\n",
    "test_X = np.random.randint(0, 2, size=(n_input))\n",
    "test_Y = test_X.sum(keepdims=True)\n"
   ]
  },
  {
   "cell_type": "markdown",
   "metadata": {},
   "source": [
    "### Building the Network"
   ]
  },
  {
   "cell_type": "code",
   "execution_count": 5,
   "metadata": {
    "collapsed": false
   },
   "outputs": [],
   "source": [
    "def RNN(x, n_hidden, weights, biases):\n",
    "\n",
    "    x = [tf.expand_dims(x, 0)]\n",
    "    # print(x.get_shape())\n",
    "\n",
    "    # Define a lstm cell with tensorflow\n",
    "    lstm_cell = rnn_cell.BasicLSTMCell(n_hidden, forget_bias=1.0)\n",
    "\n",
    "    # Get lstm cell output\n",
    "    outputs, states = rnn.rnn(lstm_cell, x, dtype=tf.float32)\n",
    "\n",
    "    # Linear activation, using rnn inner loop last output\n",
    "    return tf.mul(outputs[-1], weights['out']) + biases['out']\n",
    "\n",
    "pred = RNN(x, n_hidden_1, weights_1, biases_1)[-1,-1]\n",
    "\n",
    "# Define loss and optimizer\n",
    "cost = tf.reduce_mean(pred-tf.cast(y, tf.float32))**2\n",
    "optimizer = tf.train.AdamOptimizer(learning_rate=learning_rate).minimize(cost)\n",
    "\n",
    "# Evaluate model\n",
    "correct_pred = pred\n",
    "accuracy = cost\n",
    "\n",
    "# Initializing the variables\n",
    "init = tf.initialize_all_variables()"
   ]
  },
  {
   "cell_type": "code",
   "execution_count": 27,
   "metadata": {
    "collapsed": false,
    "scrolled": false
   },
   "outputs": [
    {
     "name": "stdout",
     "output_type": "stream",
     "text": [
      "True Train Sum:  [3]\n",
      "Epoch: 0001 cost= 11.173274994, sum =  -0.323506\n",
      "Epoch: 0101 cost= 1.155758858, sum =  1.93823\n",
      "Epoch: 0201 cost= 0.062165115, sum =  2.75491\n",
      "Epoch: 0301 cost= 0.001146707, sum =  2.9669\n",
      "Epoch: 0401 cost= 0.000006311, sum =  2.99756\n",
      "Epoch: 0501 cost= 0.000000008, sum =  2.99991\n",
      "Epoch: 0601 cost= 0.000000000, sum =  3.0\n",
      "Epoch: 0701 cost= 0.000000000, sum =  3.0\n",
      "Epoch: 0801 cost= 0.000000000, sum =  3.0\n",
      "Epoch: 0901 cost= 0.000000000, sum =  3.0\n",
      "Epoch: 1001 cost= 0.000000000, sum =  3.0\n",
      "Epoch: 1101 cost= 0.000000000, sum =  3.0\n",
      "Epoch: 1201 cost= 0.000000000, sum =  3.0\n",
      "Epoch: 1301 cost= 0.000000000, sum =  3.0\n",
      "Epoch: 1401 cost= 0.000000000, sum =  3.0\n",
      "Optimization Finished!\n",
      "Test Sum: 2.88075 , True Sum: [3]\n"
     ]
    }
   ],
   "source": [
    "with tf.Session() as sess:\n",
    "    sess.run(tf.initialize_all_variables())\n",
    "    train_X = np.array([0,0,1,1,0,1,0])\n",
    "    train_Y = train_X.sum(keepdims=True)    \n",
    "    test_X = np.array([0,0,1,0,0,1,1])\n",
    "    test_Y = test_X.sum(keepdims=True)\n",
    "    print(\"True Train Sum: \", str(train_Y))\n",
    "    for epoch in range(training_epochs):\n",
    "        avg_cost = 0.\n",
    "        # Loop over all batches\n",
    "        # Run optimization op (backprop) and cost op (to get loss value)\n",
    "        _, c = sess.run([optimizer, cost], feed_dict={x: train_X, y: train_Y})\n",
    "        # Compute average loss\n",
    "        avg_cost += c\n",
    "        # Display logs per epoch step\n",
    "        if epoch % display_step == 0:\n",
    "            print(\"Epoch:\", '%04d' % (epoch+1), \"cost=\", \"{:.9f}\".format(avg_cost) + \", sum = \", sess.run(pred, feed_dict={x: train_X}))\n",
    "    print(\"Optimization Finished!\")\n",
    "    \n",
    "    # Test model\n",
    "    correct_prediction = tf.equal(tf.argmax(pred, 1), tf.argmax(y, 1))\n",
    "    # Calculate accuracy\n",
    "    accuracy = tf.reduce_mean(tf.cast(correct_prediction, \"float\"))\n",
    "    print(\"Test Sum:\", sess.run(pred, feed_dict={x: test_X}), \", True Sum:\", str(test_Y))"
   ]
  },
  {
   "cell_type": "code",
   "execution_count": null,
   "metadata": {
    "collapsed": false
   },
   "outputs": [],
   "source": []
  },
  {
   "cell_type": "code",
   "execution_count": null,
   "metadata": {
    "collapsed": false
   },
   "outputs": [],
   "source": []
  },
  {
   "cell_type": "code",
   "execution_count": null,
   "metadata": {
    "collapsed": true
   },
   "outputs": [],
   "source": []
  }
 ],
 "metadata": {
  "anaconda-cloud": {},
  "kernelspec": {
   "display_name": "Python [Root]",
   "language": "python",
   "name": "Python [Root]"
  },
  "language_info": {
   "codemirror_mode": {
    "name": "ipython",
    "version": 3
   },
   "file_extension": ".py",
   "mimetype": "text/x-python",
   "name": "python",
   "nbconvert_exporter": "python",
   "pygments_lexer": "ipython3",
   "version": "3.5.2"
  },
  "notify_time": "30"
 },
 "nbformat": 4,
 "nbformat_minor": 0
}
