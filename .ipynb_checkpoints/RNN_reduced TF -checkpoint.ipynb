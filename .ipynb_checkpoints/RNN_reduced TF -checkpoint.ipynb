{
 "cells": [
  {
   "cell_type": "markdown",
   "metadata": {},
   "source": [
    "## Recurrent NN (reduced code size)"
   ]
  },
  {
   "cell_type": "code",
   "execution_count": 1,
   "metadata": {
    "collapsed": true
   },
   "outputs": [],
   "source": [
    "import numpy as np\n",
    "import tensorflow as tf\n",
    "from functools import partial"
   ]
  },
  {
   "cell_type": "markdown",
   "metadata": {},
   "source": [
    "#### Data"
   ]
  },
  {
   "cell_type": "code",
   "execution_count": 2,
   "metadata": {
    "collapsed": false
   },
   "outputs": [],
   "source": [
    "## Train Sequence\n",
    "n_input = 7\n",
    "train_X = np.random.randint(0, 2, size=(n_input))\n",
    "train_Y = train_X.sum(keepdims=True)"
   ]
  },
  {
   "cell_type": "code",
   "execution_count": 3,
   "metadata": {
    "collapsed": true
   },
   "outputs": [],
   "source": [
    "## Test Sequence\n",
    "test_X = np.random.randint(0, 2, size=(n_input))\n",
    "test_Y = test_X.sum(keepdims=True)"
   ]
  },
  {
   "cell_type": "markdown",
   "metadata": {},
   "source": [
    "### Functions"
   ]
  },
  {
   "cell_type": "code",
   "execution_count": 4,
   "metadata": {
    "collapsed": true
   },
   "outputs": [],
   "source": [
    "def predict(self, x):\n",
    "    # Perform forward propagation and return index of the highest score\n",
    "    o, s = forward_propagation(x)\n",
    "    return np.argmax(o, axis=1)"
   ]
  },
  {
   "cell_type": "code",
   "execution_count": 5,
   "metadata": {
    "collapsed": true
   },
   "outputs": [],
   "source": [
    "def forward_prop_tf(x, Wh, Wi):\n",
    "    def full_loop_fun(x, h, U, V):\n",
    "        return tf.cast(tf.mul(U,tf.cast(h, tf.float64), name='U_times_h') + tf.mul(V,tf.cast(x, tf.float64), name='V_times_x'), tf.float32, name='inter_cast')\n",
    "    part_loop_fun = partial(full_loop_fun, U=Wh, V=Wi)\n",
    "    return tf.foldl(part_loop_fun, tf.transpose(x, name='x_T'), initializer=tf.zeros((), tf.float32), name='foldl_op')"
   ]
  },
  {
   "cell_type": "code",
   "execution_count": 6,
   "metadata": {
    "collapsed": false
   },
   "outputs": [],
   "source": [
    "wh, wi = np.random.normal(size=2)\n",
    "Wh, Wi = tf.Variable(wh, name=\"Wh\"), tf.Variable(wi, name='Wi')"
   ]
  },
  {
   "cell_type": "markdown",
   "metadata": {},
   "source": [
    "### Building the Network"
   ]
  },
  {
   "cell_type": "code",
   "execution_count": 7,
   "metadata": {
    "collapsed": false
   },
   "outputs": [],
   "source": [
    "data = tf.placeholder(tf.int32, [None], name='data')\n",
    "target = tf.placeholder(tf.int32, [None], name='target')\n",
    "pred = forward_prop_tf(data, Wh, Wi)\n",
    "cost = tf.pow(tf.cast(tf.reduce_mean(pred - tf.cast(target, tf.float32)), tf.float32), 2, name='error_square')\n",
    "optimizer = tf.train.GradientDescentOptimizer(0.001).minimize(cost)"
   ]
  },
  {
   "cell_type": "code",
   "execution_count": 8,
   "metadata": {
    "collapsed": true
   },
   "outputs": [],
   "source": [
    "training_epochs = 1000\n",
    "display_step = 100"
   ]
  },
  {
   "cell_type": "code",
   "execution_count": 9,
   "metadata": {
    "collapsed": false
   },
   "outputs": [
    {
     "name": "stdout",
     "output_type": "stream",
     "text": [
      "True Train Sum:  [2]\n",
      "Epoch: 0001 cost= 4.845774651 sum =  -0.197378\n",
      "Epoch: 0101 cost= 3.786453247 sum =  0.0563106\n",
      "Epoch: 0201 cost= 2.622259855 sum =  0.386159\n",
      "Epoch: 0301 cost= 0.300843149 sum =  1.46474\n",
      "Epoch: 0401 cost= 0.000248534 sum =  1.98486\n",
      "Epoch: 0501 cost= 0.000000071 sum =  1.99974\n",
      "Epoch: 0601 cost= 0.000000000 sum =  2.0\n",
      "Epoch: 0701 cost= 0.000000000 sum =  2.0\n",
      "Epoch: 0801 cost= 0.000000000 sum =  2.0\n",
      "Epoch: 0901 cost= 0.000000000 sum =  2.0\n",
      "Optimization Finished!\n",
      "Test Sum: 2.0 , True Sum: [2]\n"
     ]
    }
   ],
   "source": [
    "with tf.Session() as sess:\n",
    "    sess.run(tf.initialize_all_variables())\n",
    "\n",
    "    print(\"True Train Sum: \", str(train_Y))    \n",
    "    for epoch in range(training_epochs):\n",
    "        avg_cost = 0.\n",
    "        # Loop over all batches\n",
    "        # Run optimization op (backprop) and cost op (to get loss value)\n",
    "        _, c = sess.run([optimizer, cost], feed_dict={data: train_X, target: train_Y}) #x.sum(keepdims=True)})\n",
    "        # Compute average loss\n",
    "        avg_cost += c\n",
    "        # Display logs per epoch step\n",
    "        if epoch % display_step == 0:\n",
    "            print(\"Epoch:\", '%04d' % (epoch+1), \"cost=\", \"{:.9f}\".format(avg_cost), \"sum = \", sess.run(pred, feed_dict={data:train_X}))\n",
    "    print(\"Optimization Finished!\")\n",
    "    \n",
    "    # Test model\n",
    "    correct_prediction = tf.equal(tf.argmax(pred, 1), tf.argmax(train_Y, 1))\n",
    "    # Calculate accuracy\n",
    "    accuracy = tf.reduce_mean(tf.cast(correct_prediction, \"float\"))\n",
    "    print(\"Test Sum:\", sess.run(pred, feed_dict={data: test_X}), \", True Sum:\", str(test_Y))"
   ]
  }
 ],
 "metadata": {
  "anaconda-cloud": {},
  "kernelspec": {
   "display_name": "Python [Root]",
   "language": "python",
   "name": "Python [Root]"
  },
  "language_info": {
   "codemirror_mode": {
    "name": "ipython",
    "version": 3
   },
   "file_extension": ".py",
   "mimetype": "text/x-python",
   "name": "python",
   "nbconvert_exporter": "python",
   "pygments_lexer": "ipython3",
   "version": "3.5.2"
  },
  "notify_time": "30"
 },
 "nbformat": 4,
 "nbformat_minor": 1
}
